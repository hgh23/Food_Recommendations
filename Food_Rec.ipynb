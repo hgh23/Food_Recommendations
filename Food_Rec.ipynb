{
  "nbformat": 4,
  "nbformat_minor": 0,
  "metadata": {
    "colab": {
      "provenance": []
    },
    "kernelspec": {
      "name": "python3",
      "display_name": "Python 3"
    },
    "language_info": {
      "name": "python"
    }
  },
  "cells": [
    {
      "cell_type": "code",
      "execution_count": 1,
      "metadata": {
        "colab": {
          "base_uri": "https://localhost:8080/"
        },
        "id": "nIoDDXWP1WWq",
        "outputId": "1b723ac6-21f1-4b8d-f384-bf8c8cba3aa8"
      },
      "outputs": [
        {
          "output_type": "stream",
          "name": "stdout",
          "text": [
            "Requirement already satisfied: sentence-transformers in /usr/local/lib/python3.10/dist-packages (3.2.1)\n",
            "Requirement already satisfied: transformers<5.0.0,>=4.41.0 in /usr/local/lib/python3.10/dist-packages (from sentence-transformers) (4.46.3)\n",
            "Requirement already satisfied: tqdm in /usr/local/lib/python3.10/dist-packages (from sentence-transformers) (4.66.6)\n",
            "Requirement already satisfied: torch>=1.11.0 in /usr/local/lib/python3.10/dist-packages (from sentence-transformers) (2.5.1+cu121)\n",
            "Requirement already satisfied: scikit-learn in /usr/local/lib/python3.10/dist-packages (from sentence-transformers) (1.5.2)\n",
            "Requirement already satisfied: scipy in /usr/local/lib/python3.10/dist-packages (from sentence-transformers) (1.13.1)\n",
            "Requirement already satisfied: huggingface-hub>=0.20.0 in /usr/local/lib/python3.10/dist-packages (from sentence-transformers) (0.26.3)\n",
            "Requirement already satisfied: Pillow in /usr/local/lib/python3.10/dist-packages (from sentence-transformers) (11.0.0)\n",
            "Requirement already satisfied: filelock in /usr/local/lib/python3.10/dist-packages (from huggingface-hub>=0.20.0->sentence-transformers) (3.16.1)\n",
            "Requirement already satisfied: fsspec>=2023.5.0 in /usr/local/lib/python3.10/dist-packages (from huggingface-hub>=0.20.0->sentence-transformers) (2024.10.0)\n",
            "Requirement already satisfied: packaging>=20.9 in /usr/local/lib/python3.10/dist-packages (from huggingface-hub>=0.20.0->sentence-transformers) (24.2)\n",
            "Requirement already satisfied: pyyaml>=5.1 in /usr/local/lib/python3.10/dist-packages (from huggingface-hub>=0.20.0->sentence-transformers) (6.0.2)\n",
            "Requirement already satisfied: requests in /usr/local/lib/python3.10/dist-packages (from huggingface-hub>=0.20.0->sentence-transformers) (2.32.3)\n",
            "Requirement already satisfied: typing-extensions>=3.7.4.3 in /usr/local/lib/python3.10/dist-packages (from huggingface-hub>=0.20.0->sentence-transformers) (4.12.2)\n",
            "Requirement already satisfied: networkx in /usr/local/lib/python3.10/dist-packages (from torch>=1.11.0->sentence-transformers) (3.4.2)\n",
            "Requirement already satisfied: jinja2 in /usr/local/lib/python3.10/dist-packages (from torch>=1.11.0->sentence-transformers) (3.1.4)\n",
            "Requirement already satisfied: sympy==1.13.1 in /usr/local/lib/python3.10/dist-packages (from torch>=1.11.0->sentence-transformers) (1.13.1)\n",
            "Requirement already satisfied: mpmath<1.4,>=1.1.0 in /usr/local/lib/python3.10/dist-packages (from sympy==1.13.1->torch>=1.11.0->sentence-transformers) (1.3.0)\n",
            "Requirement already satisfied: numpy>=1.17 in /usr/local/lib/python3.10/dist-packages (from transformers<5.0.0,>=4.41.0->sentence-transformers) (1.26.4)\n",
            "Requirement already satisfied: regex!=2019.12.17 in /usr/local/lib/python3.10/dist-packages (from transformers<5.0.0,>=4.41.0->sentence-transformers) (2024.9.11)\n",
            "Requirement already satisfied: tokenizers<0.21,>=0.20 in /usr/local/lib/python3.10/dist-packages (from transformers<5.0.0,>=4.41.0->sentence-transformers) (0.20.3)\n",
            "Requirement already satisfied: safetensors>=0.4.1 in /usr/local/lib/python3.10/dist-packages (from transformers<5.0.0,>=4.41.0->sentence-transformers) (0.4.5)\n",
            "Requirement already satisfied: joblib>=1.2.0 in /usr/local/lib/python3.10/dist-packages (from scikit-learn->sentence-transformers) (1.4.2)\n",
            "Requirement already satisfied: threadpoolctl>=3.1.0 in /usr/local/lib/python3.10/dist-packages (from scikit-learn->sentence-transformers) (3.5.0)\n",
            "Requirement already satisfied: MarkupSafe>=2.0 in /usr/local/lib/python3.10/dist-packages (from jinja2->torch>=1.11.0->sentence-transformers) (3.0.2)\n",
            "Requirement already satisfied: charset-normalizer<4,>=2 in /usr/local/lib/python3.10/dist-packages (from requests->huggingface-hub>=0.20.0->sentence-transformers) (3.4.0)\n",
            "Requirement already satisfied: idna<4,>=2.5 in /usr/local/lib/python3.10/dist-packages (from requests->huggingface-hub>=0.20.0->sentence-transformers) (3.10)\n",
            "Requirement already satisfied: urllib3<3,>=1.21.1 in /usr/local/lib/python3.10/dist-packages (from requests->huggingface-hub>=0.20.0->sentence-transformers) (2.2.3)\n",
            "Requirement already satisfied: certifi>=2017.4.17 in /usr/local/lib/python3.10/dist-packages (from requests->huggingface-hub>=0.20.0->sentence-transformers) (2024.8.30)\n"
          ]
        }
      ],
      "source": [
        "!pip install sentence-transformers\n"
      ]
    },
    {
      "cell_type": "code",
      "source": [
        "# Cell 2: Imports\n",
        "import numpy as np\n",
        "from typing import List, Dict\n",
        "from dataclasses import dataclass\n",
        "from sentence_transformers import SentenceTransformer\n",
        "from sklearn.metrics.pairwise import cosine_similarity\n",
        "import requests\n"
      ],
      "metadata": {
        "colab": {
          "base_uri": "https://localhost:8080/"
        },
        "id": "HQuwWE1d1YQy",
        "outputId": "7730f916-c864-43ae-c419-5018b66eb402"
      },
      "execution_count": 2,
      "outputs": [
        {
          "output_type": "stream",
          "name": "stderr",
          "text": [
            "/usr/local/lib/python3.10/dist-packages/sentence_transformers/cross_encoder/CrossEncoder.py:13: TqdmExperimentalWarning: Using `tqdm.autonotebook.tqdm` in notebook mode. Use `tqdm.tqdm` instead to force console mode (e.g. in jupyter console)\n",
            "  from tqdm.autonotebook import tqdm, trange\n"
          ]
        }
      ]
    },
    {
      "cell_type": "code",
      "source": [
        "# Cell 3: Define Recipe class\n",
        "@dataclass\n",
        "class Recipe:\n",
        "    name: str\n",
        "    ingredients: List[str]\n",
        "    instructions: str\n",
        "    cuisine: str\n",
        "    difficulty: str\n",
        "\n",
        "    def to_text(self) -> str:\n",
        "        \"\"\"Convert recipe to searchable text format\"\"\"\n",
        "        return f\"\"\"\n",
        "        Recipe: {self.name}\n",
        "        Cuisine: {self.cuisine}\n",
        "        Difficulty: {self.difficulty}\n",
        "        Ingredients: {', '.join(self.ingredients)}\n",
        "        Instructions: {self.instructions}\n",
        "        \"\"\"\n"
      ],
      "metadata": {
        "id": "nul2RZNH1chv"
      },
      "execution_count": 3,
      "outputs": []
    },
    {
      "cell_type": "code",
      "source": [
        "# Cell 4: Define RecipeRecommender class\n",
        "class RecipeRecommender:\n",
        "    def __init__(self, model_name: str = \"sentence-transformers/all-MiniLM-L6-v2\"):\n",
        "        self.embedding_model = SentenceTransformer(model_name)\n",
        "        self.recipes: List[Recipe] = []\n",
        "        self.embeddings = None\n",
        "\n",
        "    def add_recipes(self, recipes: List[Recipe]):\n",
        "        \"\"\"Add recipes and compute their embeddings\"\"\"\n",
        "        self.recipes = recipes\n",
        "        # Convert recipes to text format for embedding\n",
        "        texts = [recipe.to_text() for recipe in recipes]\n",
        "        self.embeddings = self.embedding_model.encode(texts)\n",
        "\n",
        "    def find_similar_recipes(self, query: str, top_k: int = 3) -> List[Recipe]:\n",
        "        \"\"\"Find recipes most similar to the query\"\"\"\n",
        "        query_embedding = self.embedding_model.encode([query])[0]\n",
        "        similarities = cosine_similarity([query_embedding], self.embeddings)[0]\n",
        "        top_indices = np.argsort(similarities)[-top_k:][::-1]\n",
        "        return [self.recipes[i] for i in top_indices]\n"
      ],
      "metadata": {
        "id": "FlnR8esz1irh"
      },
      "execution_count": 4,
      "outputs": []
    },
    {
      "cell_type": "code",
      "source": [
        "# Cell 5: Define recipe fetching function\n",
        "def fetch_recipes_from_api() -> List[Recipe]:\n",
        "    \"\"\"Fetch recipes from TheMealDB API\"\"\"\n",
        "    recipes = []\n",
        "    base_url = \"https://www.themealdb.com/api/json/v1/1/search.php?s=\"\n",
        "\n",
        "       # Fetch a few common dishes\n",
        "    search_terms = [\"chicken\", \"pasta\", \"fish\", \"rice\", \"soup\"]\n",
        "\n",
        "    for term in search_terms:\n",
        "        response = requests.get(base_url + term)\n",
        "        data = response.json()\n",
        "\n",
        "        if not data['meals']:\n",
        "            continue\n",
        "\n",
        "        for meal in data['meals']:\n",
        "            # Extract ingredients\n",
        "            ingredients = []\n",
        "            for i in range(1, 21):\n",
        "                ingredient = meal.get(f'strIngredient{i}')\n",
        "                if ingredient and ingredient.strip():\n",
        "                    ingredients.append(ingredient)\n",
        "\n",
        "            recipe = Recipe(\n",
        "                name=meal['strMeal'],\n",
        "                ingredients=ingredients,\n",
        "                instructions=meal['strInstructions'],\n",
        "                cuisine=meal.get('strArea', 'Unknown'),\n",
        "                difficulty=\"Medium\"  # API doesn't provide difficulty\n",
        "            )\n",
        "            recipes.append(recipe)\n",
        "\n",
        "    return recipes"
      ],
      "metadata": {
        "id": "xpTTIIx31piv"
      },
      "execution_count": 5,
      "outputs": []
    },
    {
      "cell_type": "code",
      "source": [
        "# Cell 6: Initialize and test the recommender\n",
        "# Initialize recommender\n",
        "recommender = RecipeRecommender()\n",
        "\n",
        "# Fetch and add recipes\n",
        "print(\"Fetching recipes...\")\n",
        "recipes = fetch_recipes_from_api()\n",
        "recommender.add_recipes(recipes)\n",
        "print(f\"Loaded {len(recipes)} recipes\")\n"
      ],
      "metadata": {
        "colab": {
          "base_uri": "https://localhost:8080/"
        },
        "id": "1HGXugQZ1vFc",
        "outputId": "0ae94541-eb16-4263-c5dd-923810843437"
      },
      "execution_count": 8,
      "outputs": [
        {
          "output_type": "stream",
          "name": "stdout",
          "text": [
            "Fetching recipes...\n",
            "Loaded 54 recipes\n"
          ]
        }
      ]
    },
    {
      "cell_type": "code",
      "source": [
        "# Cell 7: Function to search for recipes\n",
        "def search_recipes(query: str, recommender: RecipeRecommender):\n",
        "    print(f\"\\nSearching for: {query}\")\n",
        "    print(\"\\nRecommended Recipes:\")\n",
        "    for recipe in recommender.find_similar_recipes(query):\n",
        "        print(f\"\\n- {recipe.name} ({recipe.cuisine} cuisine)\")\n",
        "        print(f\"  Ingredients: {', '.join(recipe.ingredients)}\")\n",
        "        print(f\"  Instructions: {recipe.instructions[:200]}...\")"
      ],
      "metadata": {
        "id": "_aI_lfPR2N2i"
      },
      "execution_count": 9,
      "outputs": []
    },
    {
      "cell_type": "code",
      "source": [
        "# Cell 8: Example usage\n",
        "# Test the recommender with a sample query\n",
        "search_recipes(\"spicy chicken dinner\", recommender)"
      ],
      "metadata": {
        "colab": {
          "base_uri": "https://localhost:8080/"
        },
        "id": "TYq3sIBr2BkS",
        "outputId": "81b16c77-d0a4-4707-ebbb-c0023626d60c"
      },
      "execution_count": 10,
      "outputs": [
        {
          "output_type": "stream",
          "name": "stdout",
          "text": [
            "\n",
            "Searching for: spicy chicken dinner\n",
            "\n",
            "Recommended Recipes:\n",
            "\n",
            "- General Tso's Chicken (Chinese cuisine)\n",
            "  Ingredients: Chicken Breast, Plain Flour, Egg, Starch, Baking Powder, Salt, Onion Salt, Garlic Powder, Water, Chicken Stock, Duck Sauce, Soy Sauce, Honey, Rice Vinegar, Sesame Seed Oil, Gochujang, Starch, Garlic, Spring Onions, Ginger\n",
            "  Instructions: DIRECTIONS:\r\n",
            "STEP 1 - SAUCE\r\n",
            "In a bowl, add 2 Cups of water, 2 Tablespoon soy sauce, 2 Tablespoon white vinegar, sherry cooking wine, 1/4 Teaspoon white pepper, minced ginger, minced garlic, hot peppe...\n",
            "\n",
            "- Nutty Chicken Curry (Indian cuisine)\n",
            "  Ingredients: Red Chilli, Ginger, Garlic, Coriander, Sunflower Oil, Chicken Breasts, Peanut Butter, Chicken Stock, Greek Yogurt\n",
            "  Instructions: Finely slice a quarter of the chilli, then put the rest in a food processor with the ginger, garlic, coriander stalks and one-third of the leaves. Whizz to a rough paste with a splash of water if need...\n",
            "\n",
            "- Chicken Handi (Indian cuisine)\n",
            "  Ingredients: Chicken, Onion, Tomatoes, Garlic, Ginger paste, Vegetable oil, Cumin seeds, Coriander seeds, Turmeric powder, Chilli powder, Green chilli, Yogurt, Cream, fenugreek, Garam masala, Salt\n",
            "  Instructions: Take a large pot or wok, big enough to cook all the chicken, and heat the oil in it. Once the oil is hot, add sliced onion and fry them until deep golden brown. Then take them out on a plate and set a...\n"
          ]
        }
      ]
    }
  ]
}